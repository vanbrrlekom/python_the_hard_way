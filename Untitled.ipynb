{
 "cells": [
  {
   "cell_type": "code",
   "execution_count": 4,
   "id": "f7d94ab5-9570-487b-9151-d98f42cab1d6",
   "metadata": {},
   "outputs": [
    {
     "name": "stdout",
     "output_type": "stream",
     "text": [
      "Hello World!\n"
     ]
    }
   ],
   "source": [
    "print(\"Hello World!\")"
   ]
  },
  {
   "cell_type": "code",
   "execution_count": 5,
   "id": "2939c104-7a90-4d5a-a786-03debb58b082",
   "metadata": {},
   "outputs": [
    {
     "name": "stdout",
     "output_type": "stream",
     "text": [
      "Ahmed is 42\n"
     ]
    }
   ],
   "source": [
    "first_name = \"Ahmed\"\n",
    "age = 42\n",
    "print(first_name, \"is\", age)"
   ]
  },
  {
   "cell_type": "code",
   "execution_count": 6,
   "id": "d2cda454-4076-4ef6-af01-c6a8331a3b22",
   "metadata": {},
   "outputs": [
    {
     "name": "stdout",
     "output_type": "stream",
     "text": [
      "Ahmed is 45\n"
     ]
    }
   ],
   "source": [
    "new_age = age + 3\n",
    "print(first_name, \"is\", new_age)"
   ]
  },
  {
   "cell_type": "code",
   "execution_count": 7,
   "id": "a79a8d55-2c6a-4423-97cf-0c67be570670",
   "metadata": {},
   "outputs": [
    {
     "name": "stdout",
     "output_type": "stream",
     "text": [
      "med\n"
     ]
    }
   ],
   "source": [
    "print(first_name[2:200])"
   ]
  },
  {
   "cell_type": "code",
   "execution_count": 8,
   "id": "4872df3f-f5c6-47b9-8bbf-558712da27e9",
   "metadata": {},
   "outputs": [
    {
     "name": "stdout",
     "output_type": "stream",
     "text": [
      "5\n"
     ]
    }
   ],
   "source": [
    "x = 5\n",
    "y = x\n",
    "X = 6\n",
    "print(y)"
   ]
  },
  {
   "cell_type": "code",
   "execution_count": 10,
   "id": "bc1078c3-9ade-46f3-b838-f1e28b7c0a4a",
   "metadata": {},
   "outputs": [
    {
     "name": "stdout",
     "output_type": "stream",
     "text": [
      "<class 'float'>\n"
     ]
    }
   ],
   "source": [
    "print(type(2.5))"
   ]
  },
  {
   "cell_type": "code",
   "execution_count": 12,
   "id": "df7c5693-4f60-4189-8fb8-661bbd458055",
   "metadata": {},
   "outputs": [
    {
     "name": "stdout",
     "output_type": "stream",
     "text": [
      "Ahmed Jones\n"
     ]
    }
   ],
   "source": [
    "last_name = \"Jones\"\n",
    "print(first_name + \" \" + last_name)"
   ]
  },
  {
   "cell_type": "code",
   "execution_count": 14,
   "id": "ea183786-12a2-4868-8baa-f46037c14eca",
   "metadata": {},
   "outputs": [
    {
     "name": "stdout",
     "output_type": "stream",
     "text": [
      "AhmedAhmedAhmed\n"
     ]
    }
   ],
   "source": [
    "print(first_name*3)"
   ]
  },
  {
   "cell_type": "code",
   "execution_count": 15,
   "id": "84ae9ca8-5e4d-4407-99dd-731607ff6e24",
   "metadata": {},
   "outputs": [
    {
     "name": "stdout",
     "output_type": "stream",
     "text": [
      "5\n"
     ]
    }
   ],
   "source": [
    "print(len(first_name))"
   ]
  },
  {
   "cell_type": "code",
   "execution_count": 19,
   "id": "d4b269b0-b19a-435e-8dfa-b310d4db5d94",
   "metadata": {},
   "outputs": [
    {
     "data": {
      "text/plain": [
       "1"
      ]
     },
     "execution_count": 19,
     "metadata": {},
     "output_type": "execute_result"
    }
   ],
   "source": [
    "5%2"
   ]
  },
  {
   "cell_type": "code",
   "execution_count": 24,
   "id": "7404aed3-ba63-4dfd-a1f2-ad7ed37ed6c0",
   "metadata": {},
   "outputs": [
    {
     "name": "stdout",
     "output_type": "stream",
     "text": [
      "Help on built-in function min in module builtins:\n",
      "\n",
      "min(...)\n",
      "    min(iterable, *[, default=obj, key=func]) -> value\n",
      "    min(arg1, arg2, *args, *[, key=func]) -> value\n",
      "    \n",
      "    With a single iterable argument, return its smallest item. The\n",
      "    default keyword-only argument specifies an object to return if\n",
      "    the provided iterable is empty.\n",
      "    With two or more arguments, return the smallest argument.\n",
      "\n"
     ]
    }
   ],
   "source": [
    "help(min)"
   ]
  },
  {
   "cell_type": "code",
   "execution_count": 28,
   "id": "0d657f86-1066-4a66-9b96-a7221d3d5a94",
   "metadata": {},
   "outputs": [],
   "source": [
    "my_string = \"wHOoahoawWHOAwhoa I said heyy, it's going down\""
   ]
  },
  {
   "cell_type": "code",
   "execution_count": 29,
   "id": "63dd659b-c25b-44cd-a8ff-f9164c598e51",
   "metadata": {},
   "outputs": [
    {
     "data": {
      "text/plain": [
       "\u001b[0;31mDocstring:\u001b[0m\n",
       "min(iterable, *[, default=obj, key=func]) -> value\n",
       "min(arg1, arg2, *args, *[, key=func]) -> value\n",
       "\n",
       "With a single iterable argument, return its smallest item. The\n",
       "default keyword-only argument specifies an object to return if\n",
       "the provided iterable is empty.\n",
       "With two or more arguments, return the smallest argument.\n",
       "\u001b[0;31mType:\u001b[0m      builtin_function_or_method\n"
      ]
     },
     "metadata": {},
     "output_type": "display_data"
    }
   ],
   "source": [
    "min?"
   ]
  },
  {
   "cell_type": "code",
   "execution_count": 33,
   "id": "2745f458-bb5d-41e0-afd3-a587d4ca18bf",
   "metadata": {},
   "outputs": [
    {
     "name": "stdout",
     "output_type": "stream",
     "text": [
      "Variable     Type    Data/Info\n",
      "------------------------------\n",
      "X            int     6\n",
      "age          int     42\n",
      "first_name   str     Ahmed\n",
      "last_name    str     Jones\n",
      "my_string    str     wHOoahoawWHOAwhoa I said heyy, it's going down\n",
      "new_age      int     45\n",
      "x            int     5\n",
      "y            int     5\n"
     ]
    }
   ],
   "source": [
    "%whos"
   ]
  },
  {
   "cell_type": "code",
   "execution_count": 35,
   "id": "36bc289e-48ef-49bb-98aa-acfc3402704e",
   "metadata": {},
   "outputs": [
    {
     "data": {
      "text/plain": [
       "'c'"
      ]
     },
     "execution_count": 35,
     "metadata": {},
     "output_type": "execute_result"
    }
   ],
   "source": [
    "easy = \"acb\"\n",
    "max(easy)"
   ]
  },
  {
   "cell_type": "code",
   "execution_count": 36,
   "id": "21f23b98-7cc8-40da-afe9-f9ca8411cf10",
   "metadata": {},
   "outputs": [
    {
     "ename": "TypeError",
     "evalue": "max expected at least 1 argument, got 0",
     "output_type": "error",
     "traceback": [
      "\u001b[0;31m---------------------------------------------------------------------------\u001b[0m",
      "\u001b[0;31mTypeError\u001b[0m                                 Traceback (most recent call last)",
      "\u001b[0;32m/var/folders/c_/4hhhpd354rzfw0hqwfl58bd00000gn/T/ipykernel_29503/2529172245.py\u001b[0m in \u001b[0;36m<module>\u001b[0;34m\u001b[0m\n\u001b[0;32m----> 1\u001b[0;31m \u001b[0mmax\u001b[0m\u001b[0;34m(\u001b[0m\u001b[0;34m)\u001b[0m\u001b[0;34m\u001b[0m\u001b[0;34m\u001b[0m\u001b[0m\n\u001b[0m",
      "\u001b[0;31mTypeError\u001b[0m: max expected at least 1 argument, got 0"
     ]
    }
   ],
   "source": [
    "max()"
   ]
  },
  {
   "cell_type": "code",
   "execution_count": 39,
   "id": "18beadfa-ca6b-4090-bacc-f1f362507588",
   "metadata": {},
   "outputs": [
    {
     "data": {
      "text/plain": [
       "'e'"
      ]
     },
     "execution_count": 39,
     "metadata": {},
     "output_type": "execute_result"
    }
   ],
   "source": [
    "a_string = \"name\"\n",
    "a_string[-1]"
   ]
  },
  {
   "cell_type": "code",
   "execution_count": 41,
   "id": "5d21dc7c-ce17-4872-a1db-41e120a40237",
   "metadata": {},
   "outputs": [
    {
     "name": "stdout",
     "output_type": "stream",
     "text": [
      "<built-in method upper of str object at 0x7fab2d038f70>\n"
     ]
    }
   ],
   "source": [
    "print(\"whoawh\".upper)"
   ]
  }
 ],
 "metadata": {
  "kernelspec": {
   "display_name": "Python 3 (ipykernel)",
   "language": "python",
   "name": "python3"
  },
  "language_info": {
   "codemirror_mode": {
    "name": "ipython",
    "version": 3
   },
   "file_extension": ".py",
   "mimetype": "text/x-python",
   "name": "python",
   "nbconvert_exporter": "python",
   "pygments_lexer": "ipython3",
   "version": "3.9.13"
  }
 },
 "nbformat": 4,
 "nbformat_minor": 5
}
